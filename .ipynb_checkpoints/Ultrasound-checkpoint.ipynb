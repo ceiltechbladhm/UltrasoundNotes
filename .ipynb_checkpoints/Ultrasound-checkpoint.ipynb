{
 "cells": [
  {
   "cell_type": "markdown",
   "metadata": {
    "heading_collapsed": true
   },
   "source": [
    "# Lecture 2"
   ]
  },
  {
   "cell_type": "markdown",
   "metadata": {
    "hidden": true
   },
   "source": [
    "## Parts of a wave\n",
    "\n",
    "* Density $ \\rho = \\rho_o + \\rho_1$\n",
    "* Pressure $ p = p_o + p_1$ \n",
    "* Temperature $ T = T_o + T_1$\n",
    "* Velocity $ v = v_1$\n",
    "\n",
    "## Main conclusions from last lecture:\n",
    "\n",
    "### Variable Definitions:\n",
    "* c - speed of sound\n",
    "* c_v - heat capacity at a constant pressure\n",
    "* c_p - heat capacity at a constant volume\n",
    "\n",
    "* $\\rho_1 = K\\rho_o p_1$\n",
    "* $ T_1 = (\\gamma - 1)TKp_1$\n",
    "* $ \\gamma = \\dfrac{c_p}{c_v} $\n",
    "* $ c^2 = \\dfrac{1}{K \\rho_o}$\n",
    "\n",
    "We examine a small volume. There is some gradient of pressure, thus the pressure varies across the cube. Sum forces acting on both sides of the faces."
   ]
  },
  {
   "cell_type": "markdown",
   "metadata": {},
   "source": [
    "<img  src=\"IMG_0082.JPG\"/>"
   ]
  },
  {
   "cell_type": "markdown",
   "metadata": {},
   "source": [
    "\n",
    "\n",
    "* A - area\n",
    "* a - acceleration\n",
    "* p - pressure\n",
    "* v - velocity\n",
    "* $v_L$ - Legrangian velocity\n",
    "\n",
    "$$ [p(x) - p(x+dx)]*A = ma $$\n",
    "$$ [p(x) - p(x+dx)]A = \\rho Adx \\dfrac{dv}{dt}$$\n",
    "$$ \\dfrac{dv_l}{dt} = \\dfrac{p(x+dx)-p(x)}{\\rho_o dx} $$\n",
    "$$ \\dfrac{dv_l}{dt} = \\dfrac{-1}{\\rho_o} \\dfrac{\\partial P}{\\partial x} $$\n",
    "\n",
    " Or in 3D\n",
    " $$ \\dfrac{d\\bar{v_l}}{dt} =  \\dfrac{-1}{\\rho_o} \\nabla p $$\n",
    " $$ \\dfrac{d\\bar{v_l}}{dt} = \\dfrac{d\\bar{v}}{dt} + (\\bar{v}\\cdot \\nabla)\\bar{v} $$\n",
    " \n",
    "The second term ($(\\bar{v}\\cdot \\nabla)\\bar{v}$) is called the convection term. Usually done in terms of density. Also called Legrangian velocity? The legrangian velocity can be described as tracking the velocity of that cube if the cube were to move with the fluid."
   ]
  },
  {
   "cell_type": "markdown",
   "metadata": {},
   "source": [
    "<img  src=\"IMG_0083.JPG\"/>"
   ]
  },
  {
   "cell_type": "markdown",
   "metadata": {},
   "source": [
    "In photo:\n",
    "\n",
    "* $v(x,t_1) = v(x-v\\Delta t,t_o) = v(x,t_o) - \\dfrac{\\partial v}{\\partial x} v\\Delta t$\n",
    "* Point 1 - $v(x,t_1)$\n",
    "* Point 2 - $v(x-v\\Delta t,t_o)$\n",
    "* Point 3 - $v(x,t_o)$\n",
    "* $\\dfrac{\\partial v}{\\partial x}$ - slope\n",
    "* $v\\Delta t$ - lateral distance between points 1 and 3\n",
    "\n",
    "$v(x,t_1) = v(x-v\\Delta t,t_o) = v(x,t_o) - \\dfrac{\\partial v}{\\partial x} v\\Delta t$\n",
    "\n",
    "$$ \\dfrac{v(x,t_1) - v(x,t_o)}{\\Delta t} = -\\dfrac{\\partial v}{dx}\\cdot v(x,t_o)$$\n",
    "\n",
    "no driving force. AKA, $v_L=0$\n",
    "\n",
    "$$ \\dfrac{\\partial v}{\\partial t} + \\dfrac{\\partial v}{\\partial x} = 0$$\n",
    "(1D form)"
   ]
  },
  {
   "cell_type": "markdown",
   "metadata": {
    "hidden": true
   },
   "source": [
    "## Conclusion\n",
    "\n",
    "Important equation relating velocity to density and pressure:\n",
    "\n",
    "$$  \\dfrac{\\partial \\bar{v}}{\\partial t} = - \\dfrac{1}{\\rho} \\nabla p $$\n",
    "\n",
    "This is a simple approach which breaks down under high velocity. Be sure to take into account the convection term"
   ]
  },
  {
   "cell_type": "markdown",
   "metadata": {
    "heading_collapsed": true
   },
   "source": [
    "# Lecture 3"
   ]
  },
  {
   "cell_type": "markdown",
   "metadata": {
    "hidden": true
   },
   "source": [
    "## Last Lecture"
   ]
  },
  {
   "cell_type": "markdown",
   "metadata": {},
   "source": [
    "$$\\dfrac{\\partial v}{\\partial t} + (v \\cdot \\nabla)v = \\dfrac{1}{\\rho} \\nabla p$$\n",
    "\n",
    "This is the gradient of pressure driving the flow of the fluid. We will come back to viscocity later to describe attenuation of waves. For now we assume there is no loss of wave motion or amplitude. Once again, this is because we neglect viscocity.\n",
    "\n",
    "Next, we linearize the previous equation. Here, this means we drop the nonlinear terms. Specifically, the $(v\\cdot \\nabla)v$ is nonlinear. This is justifiable when the Mach number is small. After linearization, we get:\n",
    "\n",
    "$$\\dfrac{\\partial v}{\\partial t} = -\\dfrac{1}{\\rho}\\nabla p$$"
   ]
  },
  {
   "cell_type": "markdown",
   "metadata": {
    "hidden": true
   },
   "source": [
    "## Continuity"
   ]
  },
  {
   "cell_type": "markdown",
   "metadata": {},
   "source": [
    "To complete the description, we must look at the waves once again. Oscillating molecules undergo changes in density. The total number of molecules doesn't change. This is known as the continuity equation. One way to state this is that the flux of molecules into a space equals the flux out.\n",
    "\n",
    "$$ \\dfrac{\\partial \\rho}{\\partial t} + \\nabla(\\rho v) = 0$$\n",
    "\n",
    "If we write $\\rho$ as $\\rho = \\rho_0 + \\rho_1$, it turns out that $\\rho_1$ is small enough to be neglected\n",
    "\n",
    "$$ \\dfrac{\\partial \\rho_1}{\\partial t} + \\rho_o \\nabla \\cdot v + \\nabla \\cdot(\\rho_1 v) = 0 $$\n",
    "\n",
    "After Linearization:\n",
    "\n",
    "$$ \\dfrac{\\partial \\rho_1}{\\partial t} + \\rho_o \\nabla \\cdot v = 0 $$"
   ]
  },
  {
   "cell_type": "markdown",
   "metadata": {
    "heading_collapsed": true,
    "hidden": true
   },
   "source": [
    "## Vector Potential"
   ]
  },
  {
   "cell_type": "code",
   "execution_count": null,
   "metadata": {
    "collapsed": true,
    "hidden": true
   },
   "outputs": [],
   "source": []
  },
  {
   "cell_type": "markdown",
   "metadata": {
    "hidden": true
   },
   "source": [
    "Next, we make a simplification. Here, the vector field may be described in terms of a potential field. We do this to get rid of the vector, and instead use a scalar field. Here, $\\phi$ is called the velocity potential. This will have units of $m^2/s$, and should be thought of primarily as a mathematical tool.\n",
    "\n",
    "$$ \\bar{v} = -\\bar{\\nabla}\\phi $$\n",
    "\n",
    "An analogy is how force may be described in terms of potential energy. Here force $F$ is affected by the potential energy of $U$.\n",
    "\n",
    "$$ F = -\\bar{\\nabla}U(x) $$\n",
    "\n",
    "A velocity field which cannot be described in terms of a velocity potential field is one which has vortexes."
   ]
  },
  {
   "cell_type": "markdown",
   "metadata": {
    "heading_collapsed": true,
    "hidden": true
   },
   "source": [
    "## Back to Continuity"
   ]
  },
  {
   "cell_type": "markdown",
   "metadata": {
    "hidden": true
   },
   "source": [
    "Recall again the equation:\n",
    "    $$\\dfrac{\\partial v}{\\partial t} = -\\dfrac{1}{\\rho}\\nabla p$$\n",
    "\n",
    "$$\\dfrac{\\partial}{\\partial t}(-\\nabla \\phi) = -\\dfrac{1}{\\rho_o} \\nabla p_1$$\n",
    "$$ \\bar{\\nabla}\\dfrac{\\partial\\phi}{\\partial t} = \\dfrac{1}{\\rho_o} \\nabla p_1$$\n",
    "$$ \\dfrac{\\partial\\phi}{\\partial t} = \\dfrac{1}{\\rho_o} \\nabla p_1 $$\n",
    "\n",
    "Note here that $\\rho$ has turned into $\\rho_o$. This is because:\n",
    "\n",
    "$$\\dfrac{1}{\\rho_0 + \\rho_1}\\nabla p \\approx \\dfrac{1}{\\rho_0} \\nabla p$$\n",
    "\n",
    "Back to the main derivation. Density and pressure may be interchanged due to thermodynamic coupling.\n",
    "\n",
    "$$ \\rho_1 = \\dfrac{\\partial \\rho}{\\partial p}\\cdot p_1 = \\rho_o K p_1 $$\n",
    "\n",
    "Plugging this into the continuity equation:\n",
    "\n",
    "$$ \\dfrac{\\partial \\rho_1}{\\partial t} + \\rho_o \\nabla \\cdot v = 0 $$\n",
    "\n",
    "We get:\n",
    "\n",
    "$$ \\rho_o K \\dfrac{\\partial p}{\\partial t} + \\rho_o \\nabla \\cdot v=0 $$\n",
    "$$ \\rho_o K \\dfrac{\\partial p}{\\partial t} - \\rho_o \\nabla \\cdot(\\nabla \\phi) = 0 $$\n",
    "$$ \\rho_o K \\dfrac{\\partial p}{\\partial t} - \\rho_o \\nabla^2 \\phi = 0  $$\n",
    "$$ K\\dfrac{\\partial p_1}{\\partial t} - \\nabla^2 \\phi = 0 $$\n",
    "\n",
    "Taking the partial derivative as:\n",
    "\n",
    "$$ \\dfrac{\\partial \\phi}{\\partial t} = 1/\\rho_o p_1 $$\n",
    "$$ \\dfrac{\\partial^2 \\phi}{\\partial t^2} = 1/\\rho_o \\dfrac{\\partial p_1}{\\partial t} $$\n",
    "\n",
    "This makes:\n",
    "\n",
    "$$ \\rho_o K \\dfrac{\\partial^2 \\phi}{\\partial t^2} - \\nabla ^2 \\phi = 0  $$\n",
    "\n",
    "To simplify next, we define the speed of sound $c$ as:\n",
    "\n",
    "$$c^2 = \\dfrac{\\rho_o}{K}$$\n",
    "\n",
    "Plugging in this again, we have our final equation:\n",
    "\n",
    "$$ \\dfrac{\\partial^2 \\phi}{\\partial t^2} - c^2\\nabla ^2 \\phi = 0  $$\n"
   ]
  },
  {
   "cell_type": "markdown",
   "metadata": {
    "heading_collapsed": true,
    "hidden": true
   },
   "source": [
    "## The Wave Equation"
   ]
  },
  {
   "cell_type": "markdown",
   "metadata": {
    "hidden": true
   },
   "source": [
    "The previous section derived the wave equation:\n",
    "\n",
    "$$ \\dfrac{\\partial^2 \\phi}{\\partial t^2} - c^2\\nabla ^2 \\phi = 0  $$\n",
    "\n",
    "This is important in many fields. The parameter $c$ represents the speed of wave propagation. Let's see why this represents a wave motion. First, let us examine a 1D case. This case represents a string tied on an end. A wave is induced in the other end. The shape of the wave is translated along the positive x direction."
   ]
  },
  {
   "cell_type": "markdown",
   "metadata": {
    "hidden": true
   },
   "source": [
    "<img  src=\"IMG_0084.JPG\"/>"
   ]
  },
  {
   "cell_type": "markdown",
   "metadata": {
    "hidden": true
   },
   "source": [
    "$$ \\dfrac{\\partial^2 \\phi}{\\partial t^2} - c^2\\dfrac{\\partial^2 \\phi}{\\partial x^2} = 0  $$\n",
    "\n",
    "We define new parameters, new transformations, defined as follows. Note, we define our coordinates this way such that the origin follows the center of the wave as it propagates over our strictly spatial coordinate system $x$. The wave propagates aloing $x$ at a speed of $c$.\n",
    "\n",
    "$$\\zeta = x-ct$$\n",
    "$$\\eta = x+ct$$\n",
    "\n",
    "Therefore:\n",
    "$$ \\dfrac{\\partial \\phi}{\\partial \\zeta} = \\dfrac{\\partial \\phi}{\\partial x} - 1/c\\dfrac{\\partial \\phi}{\\partial t} $$\n",
    "$$ \\dfrac{\\partial^2 \\phi}{\\partial \\zeta \\partial \\eta} = \\dfrac{\\partial^2 \\phi}{\\partial x^2} + \\dfrac{\\partial^2 \\phi}{\\partial x \\partial t}1/c - 1/c\\left[ \\dfrac{\\partial^2 \\phi}{\\partial t \\partial x} + 1/c\\dfrac{\\partial^2 \\phi}{\\partial t^2} \\right] = 0 $$\n",
    "\n",
    "Let us define our wave function $\\phi(\\zeta,\\eta) = f_1(\\zeta) + f_2(\\eta)$\n",
    "\n",
    "We check that these arbitrary functions indeed obey the rule established in the wave equation. Namely that the double derivative cancels out (I think)?\n",
    "\n",
    "$$\\dfrac{\\partial \\phi}{\\partial \\zeta} = \\dfrac{d f_1}{dt}(\\zeta)$$\n",
    "\n",
    "$$\\dfrac{\\partial^2 \\phi}{\\partial \\zeta \\partial \\eta} = \\dfrac{\\partial}{\\partial \\eta}(\\dfrac{\\partial \\phi}{\\partial \\eta}) = \\dfrac{\\partial}{\\partial \\eta}(\\dfrac{d f_1}{dt}(\\zeta)) = 0 $$\n",
    "\n",
    "This is a mathematical wave to stay consistent with our transformation. This way, from:\n",
    "\n",
    "$$ \\dfrac{\\partial^2 \\phi}{\\partial t^2} - c^2\\dfrac{\\partial^2 \\phi}{\\partial x^2} = 0  $$\n",
    "\n",
    "We get:\n",
    "\n",
    "$$\\dfrac{\\partial^2 \\phi}{\\partial \\zeta \\partial \\eta} = 0$$\n",
    "\n",
    "The wave equation may be solved with the general functions then the following equations hold true. Here, the function $f$ is propagated at the speed $c$. Note that the functions are separated here; however, they may also be summed. This merely means that we must define two functions to describe waves propagating in opposite directions.\n",
    "\n",
    "$$\\phi = f_1(x-ct)$$\n",
    "$$\\phi = f_2(x+ct)$$"
   ]
  },
  {
   "cell_type": "markdown",
   "metadata": {
    "heading_collapsed": true
   },
   "source": [
    "# Lecture 4"
   ]
  },
  {
   "cell_type": "markdown",
   "metadata": {
    "hidden": true
   },
   "source": [
    "## Review and Important Points"
   ]
  },
  {
   "cell_type": "markdown",
   "metadata": {},
   "source": [
    "Begin with a brief, review of what we have done.\n",
    "\n",
    "Acoustic waves in materials in most cases with fluids. Those waves are peturbations over the rest state of the fluid.\n",
    "\n",
    "* $p = p_0 + p_1$\n",
    "* $\\rho = \\rho_o + \\rho_1$\n",
    "* $T = T_0 + T_1$\n",
    "* $\\bar{v} = v_0 + \\bar{v_1}$ where $v_0=0$ b/c it is assumed it is at rest\n",
    "\n",
    "Velocity is a vector; others are scalar.\n",
    "\n",
    "Next, we saw that temperature, density, and pressure are related through thermodynamics. We saw that thermodynamics was not enough to describe velocity, we had to use fluid dynamics as well.\n",
    "\n",
    "To help, we defined a new term called velocity potential.\n",
    "\n",
    "$$ \\bar{v} = -\\nabla \\phi $$\n",
    "\n",
    "Then we wrote the wave equation as such:\n",
    "\n",
    "$$ \\dfrac{\\partial^2 \\phi}{\\partial^2 t} -c^2\\nabla^2\\phi = 0 $$\n",
    "\n",
    "Moving this to 1-D:\n",
    "\n",
    "$$ \\dfrac{\\partial^2 \\phi}{\\partial^2 t} -c^2\\dfrac{\\partial^2 \\phi}{\\partial x^2} = 0 $$\n",
    "\n",
    "\n",
    "We then saw that the function $\\phi$ could be decomposed into two shapes moving in opposite directions.\n",
    "\n",
    "$$f_1(x-ct),f_2(x+ct)$$"
   ]
  },
  {
   "cell_type": "markdown",
   "metadata": {
    "hidden": true
   },
   "source": [
    "## Impedance"
   ]
  },
  {
   "cell_type": "markdown",
   "metadata": {},
   "source": [
    "Useful in electrical circuits because all quantities oscillate at the frequency at which you drive your circuit. The interesting information is how the amplitude and phase differ from the driving force for any given component.\n",
    "\n",
    "We define here a \\textbf{phasor}. If a voltage has an amplitude $V_1 = A\\text{cos}(\\omega t + \\phi)$. Note that $\\phi$ here is different than the velocity potential. We write this phasor as $V_1=Ae^{i\\phi}$. We can do the same in terms of the acoustics. Note that if we want to from the phasor to something physical, we must take the real portion of it.\n",
    "\n",
    "We can write pressure in terms of this too.\n",
    "\n",
    "\\begin{equation}\\label{eq:phasorWithFreq}\n",
    "p(x,t) = Ae^{i(\\omega t - k\\cdot x)}\n",
    "\\end{equation}\n",
    "\n",
    "\n",
    "\\begin{equation}\\label{eq:Phasor}\n",
    "\\angle p = Ae^{i(-k\\cdot x)}\n",
    "\\end{equation}\n",
    "\n",
    "Soon, we will define impedance as Eq. \\ref{eq:Impedance}\n",
    "\n",
    "\\begin{equation}\\label{eq:Impedance}\n",
    "Z = \\dfrac{\\angle p}{\\angle v}\n",
    "\\end{equation}\n",
    "\n",
    "Here, $p$ is only the acoustic part of the pressure!!!\n",
    "\n",
    "Next, we can define the velocity potential as a phasor as well.\n",
    "\n",
    "\\begin{equation}\\label{eq:VelocityPotential_Phasor}\n",
    "\\phi(r,t) = \\Phi(r,w)e^{iwt}\n",
    "\\end{equation}\n",
    "\n",
    "\\begin{equation}\\label{eq:t0}\n",
    "\\nabla^2\\Phi + \\dfrac{\\omega^2}{c^2}\\Phi = 0\n",
    "\\end{equation}\n",
    "\n",
    "Do not forget that the wave number is written as $k=\\omega/c$. This allows us to write the equation in a form known as Helmholtz equation.\n",
    "\n",
    "\\begin{equation}\\label{eq:Helmholtz}\n",
    "\\nabla^2\\Phi + k^2\\Phi = 0\n",
    "\\end{equation}"
   ]
  },
  {
   "cell_type": "markdown",
   "metadata": {
    "hidden": true
   },
   "source": [
    "## Equations in phasor notation"
   ]
  },
  {
   "cell_type": "markdown",
   "metadata": {},
   "source": [
    "Recall from last lecture that\n",
    "\n",
    "\\begin{equation}\\label{eq:t1}\n",
    "p=\\rho_o \\dfrac{\\partial \\phi}{\\partial t} = \\rho_o i\\omega \\Phi(r,w)e^{i\\omega t}\n",
    "\\end{equation}\n",
    "\n",
    "In phasor notation:\n",
    "\n",
    "\\begin{equation}\\label{eq:t2}\n",
    "\\angle p(r,w) = i \\rho_o \\omega \\Phi\n",
    "\\end{equation}\n",
    "\n",
    "Next, the velocity potential field:\n",
    "\n",
    "\\begin{equation}\\label{eq:t3}\n",
    "v = -\\nabla \\phi\n",
    "\\end{equation}\n",
    "\n",
    "Normal:\n",
    "$$ \\phi = Ae^{-ikx + i\\omega t} $$\n",
    "\n",
    "\\begin{equation}\\label{eq:t4}\n",
    "\\nabla \\phi = -ik\\phi \\hat{x}\n",
    "\\end{equation}\n",
    "\n",
    "\\begin{equation}\\label{eq:t5}\n",
    "v = ik\\hat{x}\\phi = ik\\hat{x}e^{-ikx + i\\omega t}\n",
    "\\end{equation}\n",
    "\n",
    "Phasor:\n",
    "\\begin{equation}\\label{eq:t6}\n",
    "\\angle v = ik\\hat{x}e^{-ikx}\n",
    "\\end{equation}\n",
    "\n",
    "Using these two to define impedance:\n",
    "\n",
    "Specific acoustic Impedance:\n",
    "\\begin{equation}\\label{eq:t7}\n",
    "z=\\dfrac{\\angle p}{|\\angle v|} \n",
    "\\end{equation}\n",
    "\n",
    "For the specific case of a plane wave (which is what we generally want):\n",
    "\\begin{equation}\\label{eq:t8}\n",
    "z=\\dfrac{\\angle p}{|\\angle v|} = \\dfrac{i\\omega \\rho_o\\Phi}{ik\\Phi} = \\dfrac{\\omega \\rho_o}{K} = \\rho c \n",
    "\\end{equation}\n",
    "\n",
    "Note that the acoustic impedance is characteristic to a material. This is not to be confused with specific acoustic impedance. For example, if we look at an arbitrary shape of wave (instead of a planar wave in particuar); the ratio of $p$ and $v$ change. \n",
    "\n",
    "High impedance (such as liquid), small displacements lead to large changes in pressure."
   ]
  },
  {
   "cell_type": "markdown",
   "metadata": {
    "collapsed": true,
    "heading_collapsed": true
   },
   "source": [
    "# Lecture 5"
   ]
  },
  {
   "cell_type": "markdown",
   "metadata": {
    "hidden": true
   },
   "source": [
    "## Change in schedule"
   ]
  },
  {
   "cell_type": "markdown",
   "metadata": {},
   "source": [
    "The new schedule:\n",
    "\n",
    "* new midterm: right before spring break\n",
    "* Recitation class and problem solving\n",
    "* Homeworks 2-4 are due on Wednesdays\n",
    "* Homework 2 is due next Wednesday\n"
   ]
  },
  {
   "cell_type": "markdown",
   "metadata": {
    "hidden": true
   },
   "source": [
    "## Review last lecture\n",
    "\n",
    "Characteristic acoustic impedance (material dependent):\n",
    "$$ z_o = \\rho_oc_o $$\n",
    "\n",
    "Specific acoustic impedance (medium and wave geometry):\n",
    "\n",
    "$$ Z = \\dfrac{\\angle p}{\\angle v} $$ "
   ]
  },
  {
   "cell_type": "markdown",
   "metadata": {
    "hidden": true
   },
   "source": [
    "## Steps for finding impedance"
   ]
  },
  {
   "cell_type": "markdown",
   "metadata": {},
   "source": [
    "Looking for finding the impedance, we need to follow these steps:\n",
    "1. Calculate $v(r,t) = -\\nabla \\phi$\n",
    "2. Express v as a phasor\n",
    "3. calculate p\n",
    "4. find $\\angle p$ (phasor)\n",
    "5. Take the ratio\n",
    "\n",
    "Since we know it is a spherica wave, and since we know what it looks like:\n",
    "$$ \\phi(r,t) = \\dfrac{1}{r}\\left[ f_1(r-ct) + f_2(r+ct) \\right]$$\n",
    "$$ \\phi(r,t) = \\phi_o \\dfrac{1}{r}e^{i(\\omega t - kr)} $$\n",
    "$$ \\phi(r,t) = \\phi_o \\dfrac{1}{r}e^{ik(\\omega/k t - r)} $$\n",
    "$$ \\phi(r,t) = \\phi_o \\dfrac{1}{r}e^{ik(c t - r)} $$\n",
    "\n",
    "Notice that this last equation is consistent with the solution to the wave equation $f_1$ we defined last lecture. Here we use $f_1$ instead of $f_2$ because we want to describe a wave expanding outward rather than inward. \n",
    "\n",
    "$$ |v| = -\\nabla \\phi = - \\dfrac{\\partial \\phi}{\\partial r}\\hat{r} $$\n",
    "\n",
    "Step 1: Expanding the derivative\n",
    "$$ v = \\phi_o\\left[\\dfrac{1}{r^2}e^{i(\\omega t - kr)} - \\dfrac{-ik}{r} e^{i(\\omega t - kr)}\\right] $$\n",
    "\n",
    "Step 2: Remove oscillatory component (we don't care about time, we care about the time average)\n",
    "$$ v = \\phi_o\\left[ \\dfrac{e^{-ikr}}{r^2} + \\dfrac{ik}{r}e^{-ikr} \\right] = \\dfrac{\\phi_o}{r^2}(1+ikr)e^{-ikr} $$\n",
    "\n",
    "Step 3: finding $p$\n",
    "$$ p(r,t) = \\rho_o \\dfrac{\\partial \\phi}{\\partial t} = i\\omega \\phi_o \\rho_o \\dfrac{1}{r}e^{-ikr}e^{i\\omega t}\n",
    "\n",
    "Step 4: Get the phasor pressure\n",
    "$$ \\angle p(r,\\omega) = i \\omega \\phi_o \\rho_o \\dfrac{1}{r}e^{-ikr}\n",
    "\n",
    "Step 5: Finding immpedance\n",
    "$$z = \\dfrac{\\angle p}{\\angle v} = \\dfrac{i \\omega \\phi_o \\rho_o e^{ikr} }{r} \\cdot \\dfrac{r^2}{\\phi_o(1+ikr)e^{-ikr}}$$\n",
    "$$ = c_o\\rho_o\\dfrac{ikr}{1+ikr} = z_o \\dfrac{ikr}{1+ikr} $$\n",
    "\n",
    "To get a better bit of insight for step 5, we split it into imaginary components:\n",
    "$$ z_o\\left[\\dfrac{k^2r^2}{1+k^2r^2} + i\\dfrac{kr}{1+k^2r^2}\\right] $$\n",
    "\n",
    "Look at when $kr \\gg 1$ Seeing which portions remain of the fractions, Re(Z) = Z_o, Im(z) = 0. Essentially this means that the curvature is so large, the wavefront appears to be planar. The illustration below is an example for how the curvature becomes smaller as the distance increases (I think? He never labeled the x-axis)"
   ]
  },
  {
   "cell_type": "markdown",
   "metadata": {},
   "source": [
    "<img  src=\"IMG_0092.JPG\"/>"
   ]
  },
  {
   "cell_type": "markdown",
   "metadata": {
    "hidden": true
   },
   "source": [
    "## Brief aside on a paper"
   ]
  },
  {
   "cell_type": "markdown",
   "metadata": {},
   "source": [
    "\n",
    "This calculation of the spherical wave was supposed to be talked about on wednesday. This might be cancelled. On the discussion on acoustic thermal noise, refers to a paper posted on the moodle site. Recommended to read it. It is about noise in a physical system, taking the nyquist and thermal noise in a resistor and generalizing it to any system, including acoustic noise. Recall that a voltage noise on the resistor is $V^2 \\propto 2k_BTR$. There is a gneralizaton of this result to any system. First, they derive the general result, then they apply to to acoustic noise.\n",
    "\n",
    "Some interesting approaches to the thermo-acoustic field. Questions, why should we send a pulse into a system which is already excited."
   ]
  },
  {
   "cell_type": "markdown",
   "metadata": {
    "hidden": true
   },
   "source": [
    "## Wave Energy"
   ]
  },
  {
   "cell_type": "markdown",
   "metadata": {},
   "source": [
    "Discuss how much extra energy above the quiescent case. See how this result shows us the flow on energy.\n",
    "\n",
    "Begining, we have a field with ana acoustic wave. Pressure and velocity are oscillating, meaning that we would expect to find (and indeed we do) kinetic and potential energy. Potential energy is stored by compressing the wave (pressure). Kinetic is from the velocity of the particles.\n",
    "\n",
    "Take a small cube of volume $\\delta V$. Because of them moving particles, it has kinetic energy. The mass of the particles is given by $m = \\rho_o\\delta V$.\n",
    "$$ KE = 1/2mv^2 $$\n",
    "\n",
    "Working from this, we get:\n",
    "$$ \\delta E_{KE} = 1/2\\rho_o|v|^2 \\delta V $$\n",
    "\n",
    "Potential energy is derived from a spring. The work derived from a spring should look like the energy required from moving particles from equilibrium density to acoustic density.\n",
    "\n",
    "Energy from a spring:\n",
    "$$ \\int kx dx $$\n",
    "\n",
    "Work = $\\bar{F}\\cdot \\bar{dx} = p_aAdx = p_a\\Delta V$\n",
    "\n",
    "Here $Adx$ is not the full volume $\\delta V$. IN this process, the pressure inside is rising from equilibrium. Therefore the volume is shrinking.\n",
    "\n",
    "$$ p = p_0 \\rightarrow p_0 + p_1 $$\n",
    "\n",
    "This reduces volume by a small amount, $\\Delta V$:\n",
    "$$ \\delta V \\rightarrow \\delta V - \\Delta V $$\n",
    "\n",
    "$$W = \\int^{\\delta V-\\Delta V}_{\\delta V}p_adV = -\\int^{p_a}_{0}\\kappa p\\delta V dp = -\\kappa \\delta V \\dfrac{1}{2} p_a^2$$"
   ]
  },
  {
   "cell_type": "markdown",
   "metadata": {},
   "source": [
    "<img  src=\"IMG_0093.JPG\"/>"
   ]
  },
  {
   "cell_type": "markdown",
   "metadata": {
    "collapsed": true,
    "heading_collapsed": true
   },
   "source": [
    "# Lecture 6"
   ]
  },
  {
   "cell_type": "markdown",
   "metadata": {
    "hidden": true
   },
   "source": [
    "Lets take a plane wave as an example. Now we try to write down the energy content of it. When we try to put the transducer somewhere, we are interested in how much power is being delivered through the acoustic wave. Let's dive in.\n",
    "\n",
    "We identified two parts: potential and kinetic energy. We wrote potential in terms of an integral of force over distance. Starting with the rest state, $\\delta V$, we move to the volume which is slightly compressed $\\delta V - \\Delta V$. \n",
    "\n",
    "This is actually force times displacement. We multiply pressure by area to get force. Since $\\delta V = Adx$ where Area is $A$, we see that A times pressure is Force. \n",
    "$$ W = \\int_{\\delta V}^{\\delta V - \\Delta V}p_o dV = \\int_{0}^{p_a}\\kappa p \\delta V dp = -\\kappa \\delta V 1/2 p_a^2$$\n",
    "\n",
    "We know that:\n",
    "$$ c^2 = \\dfrac{1}{\\kappa \\rho_o} $$\n",
    "\n",
    "Therefore,:\n",
    "$$ W = -\\dfrac{p_a^2}{2\\rho_oc^2}\\delta Vv$$\n",
    "\n",
    "Looking in terms of popential energy:\n",
    "$$ \\delta E_{PE} = -W =  -\\dfrac{p_a^2}{2\\rho_oc^2}\\delta V$$\n",
    "\n",
    "Thus, the total energy is the sum of kinetic and potential energy. It caries a density of energy, described as:\n",
    "$$ \\delta E = \\delta E_{KE} + \\delta E_{PE} = \\dfrac{1}{2}\\left[ \\rho_o |v|^2 + \\dfrac{1}{\\rho_oc^2}p^2 \\right] $$\n",
    "\n",
    "Energy Density is therefore written as:\n",
    "$$\\epsilon(r,t) =\\dfrac{1}{2}\\left[ \\rho_o |v|^2 + \\dfrac{1}{\\rho_oc^2}p^2 \\right] $$\n",
    "\n",
    "Volume is just an integral across the volume\n",
    "$$ E() = \\iiint \\dfrac{1}{2}\\left[ \\rho_o |v|^2 + \\dfrac{1}{\\rho_oc^2}p^2 \\right] dxdydz $$\n",
    "\n",
    "Now, looking at a plane wave:\n",
    "$$ p(x,t) = p_a \\text{cos}(\\omega t - kx) $$\n",
    "$$ v(x,t) = \\dfrac{\\rho_o}{\\rho_o c}\\text{cos}(\\omega t - kx) \\hat{x}$$\n",
    "\n",
    "Note that $p$ without subscript is the real acoustic pressure. $p_a$ is the amplitude of the pressure.\n",
    "\n",
    "Recall that for a plane wave:\n",
    "$$ Z = \\rho_o c$$\n",
    "This means the amplitude of velocity is related to acoustic pressure.\n",
    "\n",
    "\n",
    "$$ |v|^2 = \\dfrac{p_a^2}{\\rho_o^2 c^2} \\text{cos}^2(\\omega t -kx) $$\n",
    "\n",
    "Take the average over a period of time. The average time energy is important to us, as we often care more about average placement of energy rather than how it varies over time. Average denoted as: $<>$\n",
    "\n",
    "$$<cos^2 \\alpha> = \\dfrac{1}{2\\pi}\\int_0^{2\\pi}\\text{cos}^2\\alpha d\\alpha = 1/2$$\n",
    "$$ \\epsilon = 1/2\\left[ \\dfrac{p_a^2}{\\rho_o c^2}\\cdot \\dfrac{1}{2} + \\dfrac{p_a^2}{\\rho_o c^2}\\cdot \\dfrac{1}{2} \\right] = \\dfrac{1}{2\\rho_o c^2}p_a^2$$\n",
    "\n",
    "Now we will find the change of energy w.r.t. time.\n",
    "\n",
    "$$\\dfrac{\\partial E}{\\partial t} = \\dfrac{\\partial }{\\partial t}|v|^2 = 2v\\dfrac{\\partial v}{\\partial t} $$\n",
    "t\n",
    "$$ \\dfrac{\\partial v}{\\partial t} = -\\dfrac{\\partial }{\\partial t}(-\\nabla \\phi) = -1/\\rho_o\\nabla p  $$\n",
    "t\n",
    "$$ \\dfrac{\\partial}{\\partial t}|v|^2 = -2v\\cdot\\nabla p \\cdot \\dfrac{1}{\\rho_o} $$\n",
    "t\n",
    "$$ \\dfrac{\\partial^2 p}{\\partial t^2} = 2p\\dfrac{\\partial p}{\\partial t} $$\n",
    "t\n",
    "$$ 1/\\rho_0 \\dfrac{\\partial p}{\\partial t} = \\dfrac{\\partial^2 \\phi}{\\partial t^2} = c^2\\nabla^2\\phi = c^2 \\nabla \\cdot \\nabla\\phi = -c^2 \\nabla \\cdot v $$\n",
    "t\n",
    "$$ \\dfrac{\\partial^2 p}{\\partial t^2} = -2pc^2 \\rho_o \\nabla \\cdot v $$\n",
    "t\n",
    "$$ \\dfrac{\\partial \\epsilon}{\\partial t} = -1/2\\left[ 2v \\cdot \\nabla p + 2p\\nabla \\cdot v\\right] $$\n",
    "t\n",
    "$$ \\dfrac{\\partial E}{\\partial t} = -\\iiint(v\\cdot \\nabla p + p\\nabla \\cdot v)dxdydz) $$\n",
    "t\n",
    "$$ = -\\iiint\\nabla \\cdot (pv)dxdydz$$\n",
    "\n",
    "Moving to surface integrals\n",
    "$$ = -\\iint pv\\cdot d\\bar{s} $$\n",
    "\n",
    "This shows us what is flowing through the border of the volume. The flux is $pv$, which is also the energy flux."
   ]
  },
  {
   "cell_type": "markdown",
   "metadata": {
    "hidden": true
   },
   "source": [
    "## Intensity"
   ]
  },
  {
   "cell_type": "markdown",
   "metadata": {},
   "source": [
    "We define intensity as follows.\n",
    "$$ I(r,t) = p(r,t)v(r,t) $$\n",
    "We see that energy flows in the direction of acoustic velocity. Not surprising, seeing as how the direction of propagation is also the direction of oscillation. The flux is depenent on time and space, so it is instantaneous energy flux.\n",
    "\n",
    "Units of instantaneous Intensity:\n",
    "$$ \\dfrac{\\text{Energy}}{\\text{Area}\\cdot\\text{time}}  = \\dfrac{\\text{Watts}}{m^2}$$\n",
    "We want to know the energy flowing through a window, we multiply this expression by area. This gives us energy per second.\n",
    "\n",
    "Time averaged intensity:\n",
    "$$<\\bar{I}> = \\dfrac{1}{T} = \\int_0^{T}pv dt = \\dfrac{1}{2}Re(\\angle p (\\angle v^*))$$\n",
    "Where $*$ is the conjugate.\n",
    "\n",
    "Using this result for a plane wave:\n",
    "$$<\\bar{I}> = \\dfrac{p^2}{2\\rho_oc}\\hat{n}$$"
   ]
  },
  {
   "cell_type": "markdown",
   "metadata": {
    "hidden": true
   },
   "source": [
    "## Conclusion"
   ]
  },
  {
   "cell_type": "markdown",
   "metadata": {},
   "source": [
    "We found the tools to find the time average intensity and energy over a given time."
   ]
  },
  {
   "cell_type": "markdown",
   "metadata": {
    "heading_collapsed": true
   },
   "source": [
    "# Lecture 7"
   ]
  },
  {
   "cell_type": "markdown",
   "metadata": {
    "hidden": true
   },
   "source": [
    "## Last Lecture"
   ]
  },
  {
   "cell_type": "markdown",
   "metadata": {},
   "source": [
    "Flux of energy from acoustic wave. Intensity flux has a direction, and goes the same direction as the particle velocity. Here, $v$ is directional velocity and is in the same direction as wave propagation velocity. The units are in Watts/square meter.\n",
    "\n",
    "$$ I = p\\bar{c} $$\n",
    "\n",
    "Next, we integrated the intensity over one period of the oscillation. Noting that <> indicates time averaging over one period:\n",
    "\n",
    "$$<I> = \\dfrac{1}{T} \\int_0^T pvdt = \\dfrac{1}{2}Re\\left[pv^*\\right]$$\n",
    "\n",
    "Reviewing what each means again:\n",
    "$$ p = A(r)\\text{cos}(\\omega t + \\theta) $$\n",
    "$$ v = B(r)\\text{cos}(\\omega t + \\theta) $$\n",
    "\n",
    "When we speak of phasors, magnitudes and phases are usually w.r.t a single frequency. Converting these to phasors, we leave out the time dependance (aka the oscillatory poriton)\n",
    "\n",
    "$$ p = Re\\left[ A\\text{cos}(\\omega t + \\theta) + Ai\\text{sin}(\\omega t + \\theta) \\right] = Re\\left[Ae^{i(\\omega t + \\theta)} \\right] = Re\\left[Ae^{i\\theta)e^{i(\\omega t)}} \\right] $$\n",
    "\n",
    "The phasor is the $Ae^{i\\theta}$ portion. Now we add the addiotional assumption of the plane wave. The result is:\n",
    "\n",
    "$$ <I> = \\dfrac{p^2}{2\\rho_oc}\\hat{n} $$"
   ]
  },
  {
   "cell_type": "markdown",
   "metadata": {
    "hidden": true
   },
   "source": [
    "## Wave Propagates Energy, Matter, and Momentum"
   ]
  },
  {
   "cell_type": "markdown",
   "metadata": {},
   "source": [
    "The propagation of an acoustic wave transfers a number of things:\n",
    "\n",
    "* Energy Flow\n",
    "* $\\frac{1}{c^2}I=$ Mass Flow -> Streaming\n",
    "* $\\frac{1}{c}I=$ Momentum flow -> Force\n",
    "\n",
    "The fact that there is a total mass flow with the wave means that we can stream material. We  can deliver energy, such as depositing thermal energy. We can move mass. We can exert physical force. Let's see how that works\n",
    "\n",
    "There is a flow of material. To find this, we look at $\\rho v$. Here, flow of material is $\\bar{j}$.\n",
    "\n",
    "$$\\bar{j} = \\rho v$$\n",
    "\n",
    "The total moving through a particular window of area $A$ is given as M in:\n",
    "\n",
    "$$ M = \\rho v \\Delta t A$$"
   ]
  },
  {
   "cell_type": "markdown",
   "metadata": {},
   "source": []
  },
  {
   "cell_type": "markdown",
   "metadata": {},
   "source": [
    "<img  src=\"IMG_0097.JPG\"/>"
   ]
  },
  {
   "cell_type": "markdown",
   "metadata": {},
   "source": [
    "Therefore, the rate is given as $\\rho v$.\n",
    "$$ \\rho = \\rho_o + \\rho_1$$\n",
    "$$ \\bar{j} = \\rho_ov + \\rho_1v$$\n",
    "\n",
    "Replacing $\\rho_1$ with acoustic pressure. Take note that $I = pv$.\n",
    "\n",
    "$$\\bar{j} = \\rho_o v+ \\dfrac{1}{c^2}p_1v = \\rho_ov + \\dfrac{1}{c^2}I$$\n",
    "\n",
    "The intensity is nonzero; therefore there will be some transport of mass. The velocity averages to 0 since it oscillates.\n",
    "\n",
    "$$ \\bar{j} = \\dfrac{1}{c^2}I $$\n",
    "\n",
    "The mass flow happens because, when velocity pushed molecules out, density is also higher. When the velocity wave comes back in (goes negative), the density is lower, and does not pull all the molecules back in. This is the picture below. \n",
    "\n",
    "Similarly, we can find the flow of momentum defined as $\\bar{\\Pi}$. It has units of $\\dfrac{\\text{Momentum}}{\\text{Area}\\cdot\\text{Time}} = Pa$\n",
    "\n",
    "$$ \\bar{\\Pi} = \\dfrac{1}{c}<I>$$"
   ]
  },
  {
   "cell_type": "markdown",
   "metadata": {},
   "source": [
    "<img  src=\"IMG_0098.JPG\"/>"
   ]
  },
  {
   "cell_type": "markdown",
   "metadata": {
    "hidden": true
   },
   "source": [
    "## Beginning of Boundaries"
   ]
  },
  {
   "cell_type": "markdown",
   "metadata": {},
   "source": [
    "If a wave hits the wall, it gets reflected or absorbed. If nothing is reflected, there is a constant force exerted on the wall. If we subtract the incoming and reflected waves, we are left with the momentum transferred to the wall.\n",
    "\n",
    "* $I_1 = \\dfrac{1}{c}I$ = incoming\n",
    "* $I_2 = \\dfrac{1}{c}I$ = outgoing\n",
    "\n",
    "Performing a balance of momentum:\n",
    "$$ \\dfrac{1}{c}I + \\dfrac{1}{c}I = \\dfrac{2}{c}I $$\n",
    "\n",
    "A set up for measuring acoustic intensity. What we do is place set-up on a scale, then measure the weight before and during the application of acoustic waves. Once the acoustic waves are produced, a larger reading will be taken.\n",
    "\n"
   ]
  },
  {
   "cell_type": "markdown",
   "metadata": {},
   "source": [
    "<img  src=\"IMG_0099.JPG\"/>"
   ]
  },
  {
   "cell_type": "markdown",
   "metadata": {},
   "source": [
    "$$F = \\dfrac{2}{c}<I>\\cdot A$$\n",
    "$$<I> = \\dfrac{1}{2\\rho_oc}p^2$$\n",
    "Assume:\n",
    "* p = 100kPa\n",
    "* A = 1 cm^2\n",
    "* c = 1500 m/s\n",
    "* \\rho_o = 10^3 kg/m^2\n",
    "* F = 0.4 10^-3 N\n",
    "\n",
    "The acoustic force is about 40 mg\n",
    "\n",
    "It is important to know that just because acoustic intensity is missing after it hits an object, that doesn't mean it is absorbed. It could also be scattered or reflected."
   ]
  },
  {
   "cell_type": "markdown",
   "metadata": {
    "heading_collapsed": true
   },
   "source": [
    "# Lecture 8"
   ]
  },
  {
   "cell_type": "markdown",
   "metadata": {
    "hidden": true
   },
   "source": [
    "The wave transports some material which can absorb either:\n",
    "\n",
    "* Energy $I = \\rho v$  $\\dfrac{\\text{Watt}}{m^2}$ watts/square meter\n",
    "* Mass: $J = \\dfrac{1}{c^2}I$ $\\dfrac{kg}{m^2s}$ kg/square meter seconds\n",
    "* Linear Momentum: $\\dfrac{1}{c}I$ Pa (pressure)\n",
    "\n",
    "If an object stays still, there is no change in momentum and therefore no force. If there is momentum, there is osme force on it. The wave delivers momentum to an object, and therefore the object will experience a force."
   ]
  },
  {
   "cell_type": "markdown",
   "metadata": {
    "hidden": true
   },
   "source": [
    "<img  src=\"IMG_0108.JPG\"/>"
   ]
  },
  {
   "cell_type": "markdown",
   "metadata": {
    "hidden": true
   },
   "source": [
    "When a wave hits upon an object, there is a change in intensity. Typically, the input intensity is greater than the output due to things like scattering or absorption. If we look at an example of a slab embedded in water, we see an outgoing wave, and a reflected wave resulting from the incoming wave hitting the slab. A balance of momentum shows that the positive momentum left is taken by the wall (shown as an unknown, $X$). Scattering is assumed to be a series of reflected waves.\n",
    "\n",
    "$$\\dfrac{1}{c} I_{in} = \\dfrac{1}{c}I_{out} - \\dfrac{1}{c}I_{reflected} + X$$"
   ]
  },
  {
   "cell_type": "markdown",
   "metadata": {
    "hidden": true
   },
   "source": [
    "<img  src=\"IMG_0109.JPG\"/>"
   ]
  },
  {
   "cell_type": "markdown",
   "metadata": {
    "hidden": true
   },
   "source": [
    "Linear approximation of acoustic waves. There is a change in amplitude; the question is, \"Can this be described entirely by linear terms?\". We already began to examine this by our elimination of the convection term in Euler's equation. The particle velocity should be much less than the speed of sound.\n",
    "\n",
    "$M = \\dfrac{c}{v} \\ll 1$\n",
    "\n",
    "Generally, we are dealing with fairly incompressible fluids. Therefore, oscillations in density are small. However, this picture is not the same for pressure. Small oscillations in density give rise to large oscillations in pressure. Let's say that acoustic pressure in room is ~0.1 MPa. In ultrasound, the pressure can be at least 10x this at the transducer interface. The pressure waveform spans both positive and negative pressure. When there is 0 pressure, there is a vacuum. For negative pressure, the water molecules have a temporary \"glue\" with the wall. As the molecules move back, they also drag the wall back with them. ??Confused about this! Ask later."
   ]
  },
  {
   "cell_type": "markdown",
   "metadata": {
    "hidden": true
   },
   "source": [
    "Turning back to reflection, we can talk about reflection from interfaces. If there are two different materials, the wave will partially reflect and partially transmit. We need to assign some amplitudes for the reflected and transmitted portions. The mediums have different densities and speeds of sound. Each of the acoustic waves, respectively, has the equations:\n",
    "\n",
    "From a plane wave:\n",
    "$$ e^{i(\\omega t - k\\cdot r)} $$\n",
    "\n",
    "Recalling that $k = \\omega/c$:\n",
    "$$ e^{i\\omega(t - \\dfrac{1}{c}\\cdot r)} $$\n",
    "\n",
    "Adding the direction of each wave:\n",
    "\n",
    "$$ \\phi_1^i = A_1^i e^{i\\omega(t - \\dfrac{x}{c_1}\\text{cos}\\theta_i - \\dfrac{z}{c_1}\\text{sin}\\theta_i)} $$\n",
    "$$ \\phi_1^r = A_1^r e^{i\\omega(t + \\dfrac{x}{c_1}\\text{cos}\\theta_r - \\dfrac{z}{c_1}\\text{sin}\\theta_r)} $$\n",
    "$$ \\phi_2^t = A_2^t e^{i\\omega(t + \\dfrac{x}{c_2}\\text{cos}\\theta_t - \\dfrac{z}{c_2}\\text{sin}\\theta_t)} $$\n",
    "\n",
    "Recall:\n",
    "$$ p = \\rho_o \\dfrac{\\partial \\phi}{\\partial t}$$\n",
    "$$ v_x = -\\dfrac{\\partial \\phi}{\\partial x} $$\n",
    "\n",
    "Next, we look at the pressure above and below the interface.\n",
    "\n",
    "Pressure at x=0:\n",
    "$$ p(x=0-) = p(x=0+)$$\n",
    "$$ \\rho_1\\dfrac{\\partial \\phi_1^i}{\\partial t} + \\dfrac{\\partial \\phi_1^r}{\\partial t} = \\rho_2 \\dfrac{\\partial \\phi_2^t}{\\partial t} $$\n",
    "\n",
    "Velocity at x=0:\n",
    "$$ \\dfrac{\\partial \\phi_1^i}{\\partial x} + \\dfrac{\\partial \\phi_1^r}{\\partial x} =  \\dfrac{\\partial \\phi_2^t}{\\partial x}  $$\n",
    "\n",
    "$$ A_1^i \\dfrac{\\text{cos}\\theta_i}{c_1}e^{-i\\omega \\frac{z}{c_1}\\text{sin}\\theta_i} - A_1^r\\dfrac{\\text{cos}\\theta_r}{c_1}e^{-i\\omega \\frac{z}{c_1}\\text{sin}\\theta_r} = A_2^t\\dfrac{\\text{cos}\\theta_t}{c_2}e^{-i\\omega \\frac{z}{c_2}\\text{sin}\\theta_t} $$\n",
    "\n",
    "Now we examine the frequency of oscillation. The oscillations must be the same for all three waves. Therefore, the only way to balance each term from the exponential is:\n",
    "\n",
    "$$ \\dfrac{\\text{sin}\\theta_i}{c_1} =\\dfrac{\\text{sin}\\theta_r}{c_1} = \\dfrac{\\text{sin}\\theta_t}{c_2}  $$\n",
    "\n",
    "Analyzing this, we can see a few things:\n",
    "* The reflected angle equals the incident angle: $\\dfrac{\\text{sin}\\theta_i}{c_1} = \\dfrac{\\text{sin}\\theta_r}{c_1} \\rightarrow \\theta_i = \\theta_r$\n",
    "* Snells law: $\\dfrac{\\text{sin}\\theta_i}{\\text{sin}\\theta_t} = \\dfrac{c_1}{c_2}$"
   ]
  },
  {
   "cell_type": "markdown",
   "metadata": {
    "hidden": true
   },
   "source": [
    "<img  src=\"IMG_0112.JPG\"/>"
   ]
  },
  {
   "cell_type": "markdown",
   "metadata": {},
   "source": [
    "# Lecture 9"
   ]
  },
  {
   "cell_type": "markdown",
   "metadata": {},
   "source": [
    "## Last class"
   ]
  },
  {
   "cell_type": "markdown",
   "metadata": {},
   "source": [
    "In the last clss, we described what happened when a wave hits a material ofa different medium. We derived two requirements by looking at the boundary conditions. The first is that pressure must be the same on both sides. The second is similar $v_{perpendicular}$. I think this is velocity. ?? Not sure"
   ]
  },
  {
   "cell_type": "markdown",
   "metadata": {},
   "source": [
    "<img  src=\"IMG_0119.JPG\"/>"
   ]
  },
  {
   "cell_type": "markdown",
   "metadata": {},
   "source": [
    "## Video"
   ]
  },
  {
   "cell_type": "markdown",
   "metadata": {},
   "source": [
    "Video:\n",
    "\n",
    "First input shows two different material. Then we specify each material. The properties and geometry will be defined by this 2D array. Then we define a transmitter (here on the top-left side). It transmits an approximated plane wave in a direction towards the interface at an angle of, here, 20 degrees. The speed is different in the second material than the first, therefore the angle will be different. If the speed is larger, then the angle will be as well.\n",
    "\n",
    "It is possible to use any type of wave, not just plane wave. If we use a sinusoid, it is difficult to track the front. Therefore, the singal we use is a single chirp. One of the arguments we use is looking at the interface and matching the z-coordinate along the interface, the argument follows that for the boundary condition to match at every z, the oscillation frequency must match at every z as well."
   ]
  },
  {
   "cell_type": "markdown",
   "metadata": {},
   "source": [
    "## Constructing Distributions"
   ]
  },
  {
   "cell_type": "markdown",
   "metadata": {},
   "source": [
    "The boundary condition regarding pressure gives the following equation. This requires continuous pressure at x=0.\n",
    "\n",
    "$$ \\rho_1(A_1^i + A_1^r) = \\rho_2A_2e^{-i\\omega z(\\dfrac{\\text{sin}\\theta_t}{c_2} - dfrac{\\text{sin}\\theta_i}{c_1})}$$\n",
    "\n",
    "through snells law:\n",
    "\n",
    "$$ \\rho_1^A_1^i = \\rho_1A_1^r = \\rho_2A_2^t $$\n",
    "\n",
    "$$ c_2(A_1^i = A_1^r)\\text{cos}\\theta_i = c_1A_2\\text{cos}\\theta_t $$\n",
    "\n",
    "This gives you a ratio of wave amplitudes. For example, define $r$ as the ratio of reflected to incident amplitude. The ratio is negative when the phases are 180 degrees out of phase.\n",
    "\n",
    "$$ r = \\dfrac{A_1^r}{A_1^i} \\dfrac{z_2\\text{cos}\\theta_i-z_1\\text{cos}\\theta_t}{z_2\\text{cos}\\theta_i+z_1\\text{cos}\\theta_t} $$ \n",
    "\n",
    "Where:\n",
    "\n",
    "$$z_1 = \\rho_1c_1$$\n",
    "$$z_2 = \\rho_2c_2$$\n",
    "\n",
    "Taking for example, a normal angle of incident would give, as the ratio, all angles are zero, and cos terms are therefore one.\n",
    "\n",
    "$$ r = \\dfrac{z_2-z_1}{z_2+z_1} $$"
   ]
  },
  {
   "cell_type": "code",
   "execution_count": 1,
   "metadata": {
    "collapsed": false
   },
   "outputs": [
    {
     "ename": "SyntaxError",
     "evalue": "invalid syntax (<ipython-input-1-ff2620ee49cc>, line 1)",
     "output_type": "error",
     "traceback": [
      "\u001b[0;36m  File \u001b[0;32m\"<ipython-input-1-ff2620ee49cc>\"\u001b[0;36m, line \u001b[0;32m1\u001b[0m\n\u001b[0;31m    <img  src=\"IMG_0121.JPG\"/>\u001b[0m\n\u001b[0m    ^\u001b[0m\n\u001b[0;31mSyntaxError\u001b[0m\u001b[0;31m:\u001b[0m invalid syntax\n"
     ]
    }
   ],
   "source": [
    "<img  src=\"IMG_0121.JPG\"/>"
   ]
  },
  {
   "cell_type": "markdown",
   "metadata": {},
   "source": [
    "## Critical Angle"
   ]
  },
  {
   "cell_type": "markdown",
   "metadata": {},
   "source": [
    "The drawing above with incoming, transmitted, and reflected waves assumes that $c_2>c_1$. There is a special angle called the critical angle whnen $\\theta_t = 90^o$. Beginning with Snells law:\n",
    "\n",
    "$$\\text{sin}\\theta_t = \\text{sin}\\theta_i \\dfrac{c_2}{c_1}$$\n",
    "$$ 1 =  \\text{sin}\\theta_i \\dfrac{c_2}{c_1} $$ at $\\theta_t = 90^o$\n",
    "$$ \\text{sin}\\theta_c = \\dfrac{c_1}{c_2} $$\n",
    "\n",
    "The wave amplitudes have these value at this condition:\n",
    "$$ A_1^i = A_1^r $$\n",
    "$$ A_2^t = 2A_1^i \\dfrac{\\rho_1}{\\rho_2} $$\n",
    "\n",
    "Image: \n",
    "When there is a beam of finite width hitting at the critical angle (top), the emission of energy is extended along the length of the surface. Next, consider a beam striking the surface at an angle larger than the critical angle (bottom). There is total reflection."
   ]
  },
  {
   "cell_type": "markdown",
   "metadata": {},
   "source": [
    "<img  src=\"IMG_0122.JPG\"/>"
   ]
  },
  {
   "cell_type": "markdown",
   "metadata": {},
   "source": [
    "if $\\theta_c < \\theta_i < 90^o$ Then:\n",
    "\n",
    "$$ \\text{sin}\\theta_t = \\text{sin}\\theta_i \\dfrac{c_2}{c_1} > 1 $$\n",
    "$$ \\text{cos}\\theta_t = \\sqrt{1-(\\dfrac{c_2}{c_1}\\text{sin}\\theta_i)^2} = i\\alpha$$\n",
    "\n",
    "the portion within the square root is a complex number when the sin term is larger than 1. Instead, we put $\\alpha$ in terms of real numbers:\n",
    "\n",
    "$$ \\alpha = \\sqrt{(\\dfrac{c^2}{c_1}\\text{sin}\\theta_1)^2 -1} $$\n",
    "\n",
    "$$\\text{sin}\\theta_t = \\sqrt{1-\\text{cos}^2\\theta_t} = \\sqrt{1+\\alpha^2}$$\n",
    "\n",
    "$$ \\phi_2 = A_2e^{ i\\omega t - \\omega \\alpha \\dfrac{x}{c_1} - i\\dfrac{\\omega}{c_2}z\\sqrt{1+\\alpha^2} } $$\n",
    "\n",
    "Now the amplitude shows propagation along the z-axis. Evanescent waves. ?? shenanigans (look up later). This phenomenon where there is no transfer of energy (unless absorption?).\n",
    "\n"
   ]
  },
  {
   "cell_type": "markdown",
   "metadata": {},
   "source": [
    "We discuss now a wave less than the critical angle. Now we denote $I$ as the intensity of the incomine wave, $R$ as the intensity of the reflected wave, and $T$ as the intensity of the transmitted wave. The intensities are no longer equal. Why is this?\n",
    "\n",
    "$$ I \\noteq R+T $$\n",
    "\n",
    "Recall that Intensity is equal to Power/Area. The area of each beam is different (Because their angles vary).\n",
    "\n",
    "$$ T\\text{cos}\\theta_t = (1-R)\\text{cos}\\theta_i $$\n",
    "\n",
    "Intensity of reflection then:\n",
    "\n",
    "$$ R = (\\dfrac{A_r}{A_i})^2 = \\left[\\dfrac{z_2\\text{cos}\\theta_i - z_1\\text{cos}\\theta_t}{z_2\\text{cos}\\theta_i + z_1\\text{cos}\\theta_t}\\right]^2 $$\n",
    "\n",
    "$$ T = \\dfrac{4z_1z_2\\text{cos}^2\\theta_i}{(z_2\\text{cos}\\theta_i + z_1\\text{cos}\\theta_t)^2} $$\n",
    "\n",
    "The special case when $\\theta_i = 0$\n",
    "$$ R = (\\dfrac{z_2 - z_1}{z_2 + z_1})^2 $$\n",
    "$$ T = \\dfrac{4z_1z_2}{(z_1+z_2)^2} $$\n",
    "\n",
    "Some limiting cases are when there is a reflection off of a rigid material, (aka $z_2$ is infinite, then $R \\rightarrow 1$).\n",
    "\n",
    "Two casses:\n",
    "Rigid:\n",
    "$z_2 \\gg z_1$:\n",
    "$R\\rightarrow 1$\n",
    "$T \\rightarrow 0$\n",
    "\n",
    "Free:\n",
    "$z_2 \\ll z_1$\n",
    "$R\\rightarrow 1$\n",
    "$ r = -1$\n",
    "$T \\rightarrow 0$\n"
   ]
  },
  {
   "cell_type": "markdown",
   "metadata": {},
   "source": [
    "# Lecture 10"
   ]
  }
 ],
 "metadata": {
  "anaconda-cloud": {},
  "kernelspec": {
   "display_name": "Python [conda root]",
   "language": "python",
   "name": "conda-root-py"
  },
  "language_info": {
   "codemirror_mode": {
    "name": "ipython",
    "version": 3
   },
   "file_extension": ".py",
   "mimetype": "text/x-python",
   "name": "python",
   "nbconvert_exporter": "python",
   "pygments_lexer": "ipython3",
   "version": "3.5.2"
  },
  "latex_envs": {
   "LaTeX_envs_menu_present": true,
   "bibliofile": "biblio.bib",
   "cite_by": "apalike",
   "current_citInitial": 1,
   "eqLabelWithNumbers": true,
   "eqNumInitial": 1,
   "labels_anchors": false,
   "latex_user_defs": false,
   "report_style_numbering": false,
   "user_envs_cfg": false
  },
  "toc": {
   "colors": {
    "hover_highlight": "#DAA520",
    "running_highlight": "#FF0000",
    "selected_highlight": "#FFD700"
   },
   "moveMenuLeft": true,
   "nav_menu": {
    "height": "117px",
    "width": "252px"
   },
   "navigate_menu": true,
   "number_sections": true,
   "sideBar": true,
   "threshold": 4,
   "toc_cell": false,
   "toc_section_display": "block",
   "toc_window_display": false
  }
 },
 "nbformat": 4,
 "nbformat_minor": 1
}
