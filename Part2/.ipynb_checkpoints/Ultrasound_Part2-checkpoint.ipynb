{
 "cells": [
  {
   "cell_type": "markdown",
   "metadata": {},
   "source": [
    "# Lecture 10"
   ]
  },
  {
   "cell_type": "markdown",
   "metadata": {},
   "source": [
    "## Last Lecture"
   ]
  },
  {
   "cell_type": "markdown",
   "metadata": {},
   "source": [
    "* New simulations uploaded\n",
    "* No absorption was discussed\n",
    "* We talk now about how to include viscocity\n",
    "* Nonlinear terms will be discussed as well"
   ]
  },
  {
   "cell_type": "markdown",
   "metadata": {},
   "source": [
    "## Nonlinear Terms"
   ]
  },
  {
   "cell_type": "markdown",
   "metadata": {},
   "source": [
    "If we saw that $M = \\dfrac{v}{C} \\ll 1$, then the convection term is negligible. Therefore, the particle velocity is much smaller than the propagation of the wave. Then we discussed the wave in terms of pressure. Here, unlike velocity, there is some hydrostatic pressure (aka, a DC offset of the pressure). Additionally, the amplitude of the pressure wave is much larger than the hydrostatic pressure. We now write the approximation above in terms of pressure.\n",
    "\n",
    "First, pausing to derive the compressibility relation:\n",
    "$$ \\kappa = \\dfrac{1}{\\rho}\\dfrac{\\partial \\rho}{\\partial p} = \\dfrac{1}{\\rho_o c^2} $$\n",
    "$$ \\rightarrow c^2 = \\dfrac{1}{\\rho_o \\kappa} $$\n",
    "\n",
    "For referece, $\\kappa$ is on the order of GPa. Nonlinear pressures occur around 1-10 MPa.\n",
    "\n",
    "Now applying this to pressure and impedance:\n",
    "$$ Z_o = \\dfrac{p}{v} \\rightarrow p = Z_o v \\ll z_oc = \\rho_o c^2 = \\dfrac{1}{\\kappa} $$\n",
    "\n",
    "When we will talk about nonlinear acoustics, the convection term is not the source of nonlinearity. There are other mechanisms which we will discuss."
   ]
  },
  {
   "cell_type": "markdown",
   "metadata": {},
   "source": [
    "<img  src=\"IMG_0126.JPG\"/>"
   ]
  },
  {
   "cell_type": "markdown",
   "metadata": {},
   "source": [
    "## Viscosity"
   ]
  },
  {
   "cell_type": "markdown",
   "metadata": {},
   "source": [
    "This takes energy from the propagation of the wave and turn it into thermal energy. This attenuates the amplitude of the wave. Whether it is tissue or liquid, viscosity happens.\n",
    "\n",
    "$$ \\rho_o\\left[ \\dfrac{\\partial v}{\\partial t} + (v \\cdot \\nabla)v) \\right] = -\\nabla p + (\\mu_B + \\dfrac{4}{3}\\mu)\\nabla (\\nabla\\cdot v) + \\mu \\nabla^2v $$\n",
    "\n",
    "Change of notation! It may be different from other fields. Typically, $\\mu_B$ is not considered because the convection term is so small.\n",
    "\n",
    "Consider the divergence of velocity. Nonzero divergence implies a source. It is possible for there to be nonzero divergence; therefore we don't discard the divergence term entirely.\n",
    "\n",
    "* $\\mu$ - sheer viscosity\n",
    "* $\\mu_B$ - bulk viscosity\n",
    "* $\\kappa = \\dfrac{1}{\\rho}\\dfrac{\\partial \\rho}{\\partial p}$ - adaibatic compressibility\n",
    "* $k = \\dfrac{\\omega}{c} = \\dfrac{2\\pi}{\\lambda}$\n",
    "\n",
    "Taking this forward:\n",
    "\n",
    "$$ \\kappa \\rho_o \\dfrac{\\partial^2 \\phi}{\\partial t^2} - \\nabla^2 \\phi = \\kappa(\\mu_B + \\dfrac{4}{3}\\mu)\\dfrac{\\partial}{\\partial t}(\\nabla^2 \\phi) $$\n",
    "\n",
    "Taking:\n",
    "$$ \\phi(r,t) = \\Phi(r,\\omega)e^{i\\omega t} $$\n",
    "\n",
    "We see that it becomes:\n",
    "$$ \\nabla^2 \\Phi + k^2 \\Phi = 0$$"
   ]
  },
  {
   "cell_type": "markdown",
   "metadata": {},
   "source": [
    "<img  src=\"IMG_0127.JPG\"/>"
   ]
  },
  {
   "cell_type": "markdown",
   "metadata": {},
   "source": [
    "What's different? $k$ used to be the wave number; now it can be imaginary. Here:\n",
    "$$ \\angle k = k(1+i\\omega \\kappa(\\mu_b + \\dfrac{4}{3}\\mu))^{-1/2}$$\n",
    "\n",
    "Usually, the imaginary portion is much smaller than 1. Therefore, it is convenient to use a Taylor expansion to reduce the expression:\n",
    "\n",
    "$$ \\angle k = k\\left[ 1 - \\dfrac{i\\omega \\kappa}{2}(\\mu_B + \\dfrac{4}{3}\\mu) \\right] = k - i\\alpha $$\n",
    "\n",
    "Here, alpha is the attenuation coefficient.\n",
    "\n",
    "Using these two relations:\n",
    "\n",
    "$$ c^2 = \\dfrac{1}{\\rho_o} $$\n",
    "$$ c = \\dfrac{\\omega}{k} $$\n",
    "\n",
    "We can get:\n",
    "$$ \\alpha = \\dfrac{\\omega^2}{2\\rho_o c_o^3}(\\mu_B + \\dfrac{4}{3}\\mu) $$\n",
    "\n",
    "Notice that the attentuation coefficient is dependent on the frequency. High-frequency waves increase resolution; however, this increases attenuation, and decreases penetration depth.\n",
    "\n"
   ]
  },
  {
   "cell_type": "markdown",
   "metadata": {},
   "source": [
    "<img  src=\"IMG_0128.JPG\"/>"
   ]
  },
  {
   "cell_type": "markdown",
   "metadata": {},
   "source": [
    "$$ p = \\dfrac{1}{\\rho_o}\\dfrac{\\partial \\phi}{\\partial t} $$\n",
    "$$ \\nabla \\cdot v = -\\nabla \\cdot \\nabla \\phi $$\n",
    "$$ \\dfrac{\\partial \\rho_1}{\\partial t} + \\rho_o \\nabla \\cdot v = 0 $$\n",
    "$$ \\kappa \\dfrac{\\partial p}{\\partial t} + \\nabla \\cdot v = 0 $$\n",
    "$$ \\kappa i \\omega \\angle p + k^2\\Phi = 0 $$\n",
    "\n",
    "$$ \\angle p = ik^2 \\Phi \\dfrac{1}{\\omega \\kappa} $$\n",
    "\n",
    "$$ \\nabla p = ik^2\\dfrac{1}{\\omega \\kappa}\\nabla \\Phi $$\n",
    "\n",
    "$$ v = i\\omega \\kappa \\dfrac{1}{k^2}\\nabla p $$\n",
    "\n",
    "Remember:\n",
    "$$ \\angle p = p_oe^{-ikx} \\rightarrow v = \\dfrac{\\omega}{\\kappa}{k} \\angle p $$\n",
    "\n",
    "$$ \\dfrac{\\angle p}{\\angle v} = \\dfrac{\\angle k}{\\omega \\kappa} $$\n",
    "\n",
    "These two waves will be slightly out of phase."
   ]
  },
  {
   "cell_type": "markdown",
   "metadata": {},
   "source": [
    "<img  src=\"IMG_0129.JPG\"/>"
   ]
  },
  {
   "cell_type": "markdown",
   "metadata": {},
   "source": [
    "<img  src=\"IMG_0130.JPG\"/>"
   ]
  },
  {
   "cell_type": "markdown",
   "metadata": {},
   "source": [
    "Rewriting this explicity:\n",
    "\n",
    "$$ \\angle p = p_o e^{-ikx} = p_oe^{-i(k-i\\alpha)x} = p_oe^{-\\alpha x}e^{-ikx} $$\n",
    "\n",
    "For intensity:\n",
    "\n",
    "$$ I = I_oe^{-2\\alpha x} $$\n",
    "\n",
    "There is no longer any more conservation of energy (within the wave), as some is carried to heat.\n",
    "\n",
    "There are two ways to represent the attenuation coefficient. The second is to use a dB scale.\n",
    "\n",
    "$$ \\alpha_{dB} = \\dfrac{20}{x}\\text{log}_{10}\\dfrac{p_o}{p(x)} = \\dfrac{10}{x}\\text{log}_{10}\\dfrac{I_o}{I(x)} $$\n",
    "$$ \\alpha_{dB} \\approx 8.686\\alpha $$\n",
    "\n",
    "Typically, the coefficient is written as follows. In datasheets, $\\alpha_o$ is given. To find the impedence for your specific application, you need to multiply by $f^2$. \n",
    "\n",
    "$$ \\alpha = \\alpha_o f^2 $$\n",
    "\n",
    "If there is not a fluid (e.g. different tissue types). Here, $ 1 < n < 2 $.\n",
    "$$ \\alpha = \\alpha_of^n $$\n",
    "\n"
   ]
  },
  {
   "cell_type": "markdown",
   "metadata": {},
   "source": [
    "<img  src=\"IMG_0131.JPG\"/>"
   ]
  },
  {
   "cell_type": "markdown",
   "metadata": {},
   "source": []
  }
 ],
 "metadata": {
  "anaconda-cloud": {},
  "kernelspec": {
   "display_name": "Python [conda root]",
   "language": "python",
   "name": "conda-root-py"
  },
  "language_info": {
   "codemirror_mode": {
    "name": "ipython",
    "version": 3
   },
   "file_extension": ".py",
   "mimetype": "text/x-python",
   "name": "python",
   "nbconvert_exporter": "python",
   "pygments_lexer": "ipython3",
   "version": "3.5.2"
  },
  "latex_envs": {
   "LaTeX_envs_menu_present": true,
   "bibliofile": "biblio.bib",
   "cite_by": "apalike",
   "current_citInitial": 1,
   "eqLabelWithNumbers": true,
   "eqNumInitial": 1,
   "labels_anchors": false,
   "latex_user_defs": false,
   "report_style_numbering": false,
   "user_envs_cfg": false
  },
  "toc": {
   "colors": {
    "hover_highlight": "#DAA520",
    "running_highlight": "#FF0000",
    "selected_highlight": "#FFD700"
   },
   "moveMenuLeft": true,
   "nav_menu": {
    "height": "84px",
    "width": "252px"
   },
   "navigate_menu": true,
   "number_sections": true,
   "sideBar": true,
   "threshold": 4,
   "toc_cell": false,
   "toc_section_display": "block",
   "toc_window_display": false
  }
 },
 "nbformat": 4,
 "nbformat_minor": 1
}
